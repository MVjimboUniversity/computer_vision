{
 "cells": [
  {
   "cell_type": "markdown",
   "metadata": {},
   "source": [
    "# Обработка данных"
   ]
  },
  {
   "cell_type": "code",
   "execution_count": 24,
   "metadata": {},
   "outputs": [],
   "source": [
    "import os\n",
    "from pathlib import Path"
   ]
  },
  {
   "cell_type": "code",
   "execution_count": 25,
   "metadata": {},
   "outputs": [],
   "source": [
    "p = Path(\"Train\")"
   ]
  },
  {
   "cell_type": "code",
   "execution_count": 27,
   "metadata": {},
   "outputs": [
    {
     "name": "stdout",
     "output_type": "stream",
     "text": [
      "Baked Potato\n",
      "Burger\n",
      "Crispy Chicken\n",
      "Donut\n",
      "Fries\n",
      "Hot Dog\n",
      "Pizza\n",
      "Sandwich\n",
      "Taco\n",
      "Taquito\n"
     ]
    }
   ],
   "source": [
    "for path in p.iterdir():\n",
    "    print(path.name)"
   ]
  },
  {
   "cell_type": "code",
   "execution_count": 31,
   "metadata": {},
   "outputs": [
    {
     "name": "stdout",
     "output_type": "stream",
     "text": [
      "Deleted 5 images.\n"
     ]
    }
   ],
   "source": [
    "num_skipped = 0\n",
    "class_names = [\"Baked Potato\", \"Burger\", \"Crispy Chicken\", \"Donut\", \"Fries\", \"Hot Dog\", \"Pizza\", \"Sandwich\", \"Taco\", \"Taquito\"]\n",
    "data_names = [\"Test\", \"Train\", \"Valid\"]\n",
    "for folder_name in class_names:\n",
    "    for folder_name_parent in data_names:\n",
    "        folder_path = os.path.join(\"./Data\", folder_name_parent, folder_name)\n",
    "        for fname in os.listdir(folder_path):\n",
    "            fpath = os.path.join(folder_path, fname)\n",
    "            try:\n",
    "                fobj = open(fpath, \"rb\")\n",
    "                is_jfif = b\"JFIF\" in fobj.peek(10)\n",
    "            finally:\n",
    "                fobj.close()\n",
    "\n",
    "            if not is_jfif:\n",
    "                num_skipped += 1\n",
    "                # Delete corrupted image\n",
    "                os.remove(fpath)\n",
    "\n",
    "print(f\"Deleted {num_skipped} images.\")"
   ]
  }
 ],
 "metadata": {
  "kernelspec": {
   "display_name": "cv",
   "language": "python",
   "name": "python3"
  },
  "language_info": {
   "codemirror_mode": {
    "name": "ipython",
    "version": 3
   },
   "file_extension": ".py",
   "mimetype": "text/x-python",
   "name": "python",
   "nbconvert_exporter": "python",
   "pygments_lexer": "ipython3",
   "version": "3.11.7"
  }
 },
 "nbformat": 4,
 "nbformat_minor": 2
}
